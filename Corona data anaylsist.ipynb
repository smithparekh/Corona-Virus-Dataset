{
 "cells": [
  {
   "cell_type": "code",
   "execution_count": 1,
   "metadata": {},
   "outputs": [],
   "source": [
    "import requests\n",
    "from bs4 import BeautifulSoup\n",
    "import pandas as pd\n",
    "import matplotlib.pyplot as plt\n"
   ]
  },
  {
   "cell_type": "code",
   "execution_count": 2,
   "metadata": {},
   "outputs": [
    {
     "name": "stdout",
     "output_type": "stream",
     "text": [
      "Coronavirus Update (Live): 23,158,816 Cases and 803,950 Deaths from COVID-19 Virus Pandemic - Worldometer\n",
      "\n",
      "\n",
      "[<div id=\"maincounter-wrap\" style=\"margin-top:15px\">\n",
      "<h1>Coronavirus Cases:</h1>\n",
      "<div class=\"maincounter-number\">\n",
      "<span style=\"color:#aaa\">23,158,816 </span>\n",
      "</div>\n",
      "</div>, <div id=\"maincounter-wrap\" style=\"margin-top:15px\">\n",
      "<h1>Deaths:</h1>\n",
      "<div class=\"maincounter-number\">\n",
      "<span>803,950</span>\n",
      "</div>\n",
      "</div>, <div id=\"maincounter-wrap\" style=\"margin-top:15px;\">\n",
      "<h1>Recovered:</h1>\n",
      "<div class=\"maincounter-number\" style=\"color:#8ACA2B \">\n",
      "<span>15,739,506</span>\n",
      "</div>\n",
      "</div>]\n",
      "\n",
      "Coronavirus Cases:\n",
      "\n",
      "23,158,816 \n",
      "\n",
      "\n",
      "\n",
      "Deaths:\n",
      "\n",
      "803,950\n",
      "\n",
      "\n",
      "\n",
      "Recovered:\n",
      "\n",
      "15,739,506\n",
      "\n",
      "\n"
     ]
    }
   ],
   "source": [
    "url = \"https://www.worldometers.info/coronavirus/\"\n",
    "r = requests.get(url)\n",
    "html = r.text\n",
    "soup = BeautifulSoup(html,'html.parser')\n",
    "print(soup.title.text)\n",
    "print()\n",
    "print()\n",
    "live_data=soup.find_all('div',id='maincounter-wrap')\n",
    "print(live_data)\n",
    "for i in live_data:\n",
    "    print(i.text)"
   ]
  },
  {
   "cell_type": "code",
   "execution_count": 3,
   "metadata": {},
   "outputs": [],
   "source": [
    "\n",
    "table_body = soup.find(\"tbody\")\n",
    "table_rows =table_body.find_all('tr')"
   ]
  },
  {
   "cell_type": "code",
   "execution_count": 4,
   "metadata": {},
   "outputs": [],
   "source": [
    "\n",
    "country = []\n",
    "totalcases = []\n",
    "newcases = []\n",
    "totaldeaths = []\n",
    "newdeaths = []\n",
    "totalrecovered = []\n",
    "ActiveCases=[]\n",
    "SeriousCases=[]\n",
    "Population=[]\n",
    "for tr in table_rows:\n",
    "    td=tr.find_all('td')\n",
    "    country.append(td[1].text)\n",
    "    totalcases.append(td[2].text)\n",
    "    newcases.append(td[3].text)\n",
    "    totaldeaths.append(td[4].text)\n",
    "    newdeaths.append(td[5].text)\n",
    "    totalrecovered.append(td[6].text)\n",
    "    ActiveCases.append(td[7].text)\n",
    "    SeriousCases.append(td[8].text)\n",
    "    Population.append(td[13].text)"
   ]
  },
  {
   "cell_type": "code",
   "execution_count": 5,
   "metadata": {},
   "outputs": [],
   "source": [
    "\n",
    "headers = ['country','totalcases','newcases','totaldeaths','newdeaths ','totalrecovered',' ActiveCases','SeriousCases','Population']"
   ]
  },
  {
   "cell_type": "code",
   "execution_count": 6,
   "metadata": {},
   "outputs": [],
   "source": [
    "\n",
    "prepared_list=list(zip(country,totalcases,newcases,totaldeaths,newdeaths,totalrecovered,ActiveCases,SeriousCases,Population))\n",
    "del prepared_list [:8]\n",
    "data_frame = pd.DataFrame(prepared_list,columns=headers)"
   ]
  },
  {
   "cell_type": "code",
   "execution_count": 7,
   "metadata": {},
   "outputs": [],
   "source": [
    "data_frame.to_csv(\"C:\\\\Users\\\\ankit-smith\\\\Desktop\\\\project\\\\Data.csv\")"
   ]
  },
  {
   "cell_type": "code",
   "execution_count": 8,
   "metadata": {},
   "outputs": [],
   "source": [
    "import pandas as pd\n",
    "import numpy as np\n",
    "import matplotlib.pyplot as plt\n",
    "import seaborn as sns\n",
    "%matplotlib inline"
   ]
  },
  {
   "cell_type": "code",
   "execution_count": 9,
   "metadata": {},
   "outputs": [],
   "source": [
    "data = pd.read_csv(\"C:\\\\Users\\\\ankit-smith\\\\Desktop\\\\project\\\\Data.csv\")"
   ]
  },
  {
   "cell_type": "code",
   "execution_count": 10,
   "metadata": {},
   "outputs": [
    {
     "data": {
      "text/html": [
       "<div>\n",
       "<style scoped>\n",
       "    .dataframe tbody tr th:only-of-type {\n",
       "        vertical-align: middle;\n",
       "    }\n",
       "\n",
       "    .dataframe tbody tr th {\n",
       "        vertical-align: top;\n",
       "    }\n",
       "\n",
       "    .dataframe thead th {\n",
       "        text-align: right;\n",
       "    }\n",
       "</style>\n",
       "<table border=\"1\" class=\"dataframe\">\n",
       "  <thead>\n",
       "    <tr style=\"text-align: right;\">\n",
       "      <th></th>\n",
       "      <th>Unnamed: 0</th>\n",
       "      <th>country</th>\n",
       "      <th>totalcases</th>\n",
       "      <th>newcases</th>\n",
       "      <th>totaldeaths</th>\n",
       "      <th>newdeaths</th>\n",
       "      <th>totalrecovered</th>\n",
       "      <th>ActiveCases</th>\n",
       "      <th>SeriousCases</th>\n",
       "      <th>Population</th>\n",
       "    </tr>\n",
       "  </thead>\n",
       "  <tbody>\n",
       "    <tr>\n",
       "      <th>0</th>\n",
       "      <td>0</td>\n",
       "      <td>USA</td>\n",
       "      <td>5,799,148</td>\n",
       "      <td>+2,421</td>\n",
       "      <td>179,240</td>\n",
       "      <td>40.0</td>\n",
       "      <td>3,127,418</td>\n",
       "      <td>NaN</td>\n",
       "      <td>2,492,490</td>\n",
       "      <td>225,547</td>\n",
       "    </tr>\n",
       "    <tr>\n",
       "      <th>1</th>\n",
       "      <td>1</td>\n",
       "      <td>Brazil</td>\n",
       "      <td>3,536,488</td>\n",
       "      <td>NaN</td>\n",
       "      <td>113,454</td>\n",
       "      <td>NaN</td>\n",
       "      <td>2,670,755</td>\n",
       "      <td>NaN</td>\n",
       "      <td>752,279</td>\n",
       "      <td>66,476</td>\n",
       "    </tr>\n",
       "    <tr>\n",
       "      <th>2</th>\n",
       "      <td>2</td>\n",
       "      <td>India</td>\n",
       "      <td>2,985,367</td>\n",
       "      <td>+11,999</td>\n",
       "      <td>56,030</td>\n",
       "      <td>102.0</td>\n",
       "      <td>2,228,248</td>\n",
       "      <td>+7,449</td>\n",
       "      <td>701,089</td>\n",
       "      <td>24,959</td>\n",
       "    </tr>\n",
       "    <tr>\n",
       "      <th>3</th>\n",
       "      <td>3</td>\n",
       "      <td>Russia</td>\n",
       "      <td>951,897</td>\n",
       "      <td>+4,921</td>\n",
       "      <td>16,310</td>\n",
       "      <td>121.0</td>\n",
       "      <td>767,477</td>\n",
       "      <td>+6,147</td>\n",
       "      <td>168,110</td>\n",
       "      <td>231,693</td>\n",
       "    </tr>\n",
       "    <tr>\n",
       "      <th>4</th>\n",
       "      <td>4</td>\n",
       "      <td>South Africa</td>\n",
       "      <td>603,338</td>\n",
       "      <td>NaN</td>\n",
       "      <td>12,843</td>\n",
       "      <td>NaN</td>\n",
       "      <td>500,102</td>\n",
       "      <td>NaN</td>\n",
       "      <td>90,393</td>\n",
       "      <td>58,986</td>\n",
       "    </tr>\n",
       "    <tr>\n",
       "      <th>...</th>\n",
       "      <td>...</td>\n",
       "      <td>...</td>\n",
       "      <td>...</td>\n",
       "      <td>...</td>\n",
       "      <td>...</td>\n",
       "      <td>...</td>\n",
       "      <td>...</td>\n",
       "      <td>...</td>\n",
       "      <td>...</td>\n",
       "      <td>...</td>\n",
       "    </tr>\n",
       "    <tr>\n",
       "      <th>210</th>\n",
       "      <td>210</td>\n",
       "      <td>Western Sahara</td>\n",
       "      <td>10</td>\n",
       "      <td>NaN</td>\n",
       "      <td>1</td>\n",
       "      <td>NaN</td>\n",
       "      <td>8</td>\n",
       "      <td>NaN</td>\n",
       "      <td>1</td>\n",
       "      <td>NaN</td>\n",
       "    </tr>\n",
       "    <tr>\n",
       "      <th>211</th>\n",
       "      <td>211</td>\n",
       "      <td>MS Zaandam</td>\n",
       "      <td>9</td>\n",
       "      <td>NaN</td>\n",
       "      <td>2</td>\n",
       "      <td>NaN</td>\n",
       "      <td>NaN</td>\n",
       "      <td>NaN</td>\n",
       "      <td>7</td>\n",
       "      <td>NaN</td>\n",
       "    </tr>\n",
       "    <tr>\n",
       "      <th>212</th>\n",
       "      <td>212</td>\n",
       "      <td>Saint Pierre Miquelon</td>\n",
       "      <td>5</td>\n",
       "      <td>NaN</td>\n",
       "      <td></td>\n",
       "      <td>NaN</td>\n",
       "      <td>1</td>\n",
       "      <td>NaN</td>\n",
       "      <td>4</td>\n",
       "      <td>NaN</td>\n",
       "    </tr>\n",
       "    <tr>\n",
       "      <th>213</th>\n",
       "      <td>213</td>\n",
       "      <td>Anguilla</td>\n",
       "      <td>3</td>\n",
       "      <td>NaN</td>\n",
       "      <td></td>\n",
       "      <td>NaN</td>\n",
       "      <td>3</td>\n",
       "      <td>NaN</td>\n",
       "      <td>0</td>\n",
       "      <td>44,069</td>\n",
       "    </tr>\n",
       "    <tr>\n",
       "      <th>214</th>\n",
       "      <td>214</td>\n",
       "      <td>China</td>\n",
       "      <td>84,939</td>\n",
       "      <td>+22</td>\n",
       "      <td>4,634</td>\n",
       "      <td>NaN</td>\n",
       "      <td>79,851</td>\n",
       "      <td>+59</td>\n",
       "      <td>454</td>\n",
       "      <td>62,814</td>\n",
       "    </tr>\n",
       "  </tbody>\n",
       "</table>\n",
       "<p>215 rows × 10 columns</p>\n",
       "</div>"
      ],
      "text/plain": [
       "     Unnamed: 0                country totalcases newcases totaldeaths  \\\n",
       "0             0                    USA  5,799,148   +2,421    179,240    \n",
       "1             1                 Brazil  3,536,488      NaN    113,454    \n",
       "2             2                  India  2,985,367  +11,999     56,030    \n",
       "3             3                 Russia    951,897   +4,921     16,310    \n",
       "4             4           South Africa    603,338      NaN     12,843    \n",
       "..          ...                    ...        ...      ...         ...   \n",
       "210         210         Western Sahara         10      NaN          1    \n",
       "211         211             MS Zaandam          9      NaN          2    \n",
       "212         212  Saint Pierre Miquelon          5      NaN               \n",
       "213         213               Anguilla          3      NaN               \n",
       "214         214                  China     84,939      +22      4,634    \n",
       "\n",
       "     newdeaths  totalrecovered  ActiveCases SeriousCases Population  \n",
       "0          40.0      3,127,418          NaN    2,492,490    225,547  \n",
       "1           NaN      2,670,755          NaN      752,279     66,476  \n",
       "2         102.0      2,228,248       +7,449      701,089     24,959  \n",
       "3         121.0        767,477       +6,147      168,110    231,693  \n",
       "4           NaN        500,102          NaN       90,393     58,986  \n",
       "..          ...            ...          ...          ...        ...  \n",
       "210         NaN              8          NaN            1        NaN  \n",
       "211         NaN            NaN          NaN            7        NaN  \n",
       "212         NaN              1          NaN            4        NaN  \n",
       "213         NaN              3          NaN            0     44,069  \n",
       "214         NaN         79,851          +59          454     62,814  \n",
       "\n",
       "[215 rows x 10 columns]"
      ]
     },
     "execution_count": 10,
     "metadata": {},
     "output_type": "execute_result"
    }
   ],
   "source": [
    "data"
   ]
  },
  {
   "cell_type": "code",
   "execution_count": 11,
   "metadata": {},
   "outputs": [
    {
     "data": {
      "text/html": [
       "<div>\n",
       "<style scoped>\n",
       "    .dataframe tbody tr th:only-of-type {\n",
       "        vertical-align: middle;\n",
       "    }\n",
       "\n",
       "    .dataframe tbody tr th {\n",
       "        vertical-align: top;\n",
       "    }\n",
       "\n",
       "    .dataframe thead th {\n",
       "        text-align: right;\n",
       "    }\n",
       "</style>\n",
       "<table border=\"1\" class=\"dataframe\">\n",
       "  <thead>\n",
       "    <tr style=\"text-align: right;\">\n",
       "      <th></th>\n",
       "      <th>Unnamed: 0</th>\n",
       "      <th>country</th>\n",
       "      <th>totalcases</th>\n",
       "      <th>newcases</th>\n",
       "      <th>totaldeaths</th>\n",
       "      <th>newdeaths</th>\n",
       "      <th>totalrecovered</th>\n",
       "      <th>ActiveCases</th>\n",
       "      <th>SeriousCases</th>\n",
       "      <th>Population</th>\n",
       "    </tr>\n",
       "  </thead>\n",
       "  <tbody>\n",
       "    <tr>\n",
       "      <th>0</th>\n",
       "      <td>0</td>\n",
       "      <td>USA</td>\n",
       "      <td>5,799,148</td>\n",
       "      <td>+2,421</td>\n",
       "      <td>179,240</td>\n",
       "      <td>40.0</td>\n",
       "      <td>3,127,418</td>\n",
       "      <td>NaN</td>\n",
       "      <td>2,492,490</td>\n",
       "      <td>225,547</td>\n",
       "    </tr>\n",
       "    <tr>\n",
       "      <th>1</th>\n",
       "      <td>1</td>\n",
       "      <td>Brazil</td>\n",
       "      <td>3,536,488</td>\n",
       "      <td>NaN</td>\n",
       "      <td>113,454</td>\n",
       "      <td>NaN</td>\n",
       "      <td>2,670,755</td>\n",
       "      <td>NaN</td>\n",
       "      <td>752,279</td>\n",
       "      <td>66,476</td>\n",
       "    </tr>\n",
       "    <tr>\n",
       "      <th>2</th>\n",
       "      <td>2</td>\n",
       "      <td>India</td>\n",
       "      <td>2,985,367</td>\n",
       "      <td>+11,999</td>\n",
       "      <td>56,030</td>\n",
       "      <td>102.0</td>\n",
       "      <td>2,228,248</td>\n",
       "      <td>+7,449</td>\n",
       "      <td>701,089</td>\n",
       "      <td>24,959</td>\n",
       "    </tr>\n",
       "    <tr>\n",
       "      <th>3</th>\n",
       "      <td>3</td>\n",
       "      <td>Russia</td>\n",
       "      <td>951,897</td>\n",
       "      <td>+4,921</td>\n",
       "      <td>16,310</td>\n",
       "      <td>121.0</td>\n",
       "      <td>767,477</td>\n",
       "      <td>+6,147</td>\n",
       "      <td>168,110</td>\n",
       "      <td>231,693</td>\n",
       "    </tr>\n",
       "    <tr>\n",
       "      <th>4</th>\n",
       "      <td>4</td>\n",
       "      <td>South Africa</td>\n",
       "      <td>603,338</td>\n",
       "      <td>NaN</td>\n",
       "      <td>12,843</td>\n",
       "      <td>NaN</td>\n",
       "      <td>500,102</td>\n",
       "      <td>NaN</td>\n",
       "      <td>90,393</td>\n",
       "      <td>58,986</td>\n",
       "    </tr>\n",
       "    <tr>\n",
       "      <th>5</th>\n",
       "      <td>5</td>\n",
       "      <td>Peru</td>\n",
       "      <td>576,067</td>\n",
       "      <td>NaN</td>\n",
       "      <td>27,245</td>\n",
       "      <td>NaN</td>\n",
       "      <td>384,908</td>\n",
       "      <td>NaN</td>\n",
       "      <td>163,914</td>\n",
       "      <td>88,251</td>\n",
       "    </tr>\n",
       "    <tr>\n",
       "      <th>6</th>\n",
       "      <td>6</td>\n",
       "      <td>Mexico</td>\n",
       "      <td>549,734</td>\n",
       "      <td>+5,928</td>\n",
       "      <td>59,610</td>\n",
       "      <td>504.0</td>\n",
       "      <td>376,409</td>\n",
       "      <td>+4,771</td>\n",
       "      <td>113,715</td>\n",
       "      <td>9,597</td>\n",
       "    </tr>\n",
       "  </tbody>\n",
       "</table>\n",
       "</div>"
      ],
      "text/plain": [
       "   Unnamed: 0       country totalcases newcases totaldeaths  newdeaths   \\\n",
       "0           0           USA  5,799,148   +2,421    179,240         40.0   \n",
       "1           1        Brazil  3,536,488      NaN    113,454          NaN   \n",
       "2           2         India  2,985,367  +11,999     56,030        102.0   \n",
       "3           3        Russia    951,897   +4,921     16,310        121.0   \n",
       "4           4  South Africa    603,338      NaN     12,843          NaN   \n",
       "5           5          Peru    576,067      NaN     27,245          NaN   \n",
       "6           6        Mexico    549,734   +5,928     59,610        504.0   \n",
       "\n",
       "  totalrecovered  ActiveCases SeriousCases Population  \n",
       "0      3,127,418          NaN    2,492,490    225,547  \n",
       "1      2,670,755          NaN      752,279     66,476  \n",
       "2      2,228,248       +7,449      701,089     24,959  \n",
       "3        767,477       +6,147      168,110    231,693  \n",
       "4        500,102          NaN       90,393     58,986  \n",
       "5        384,908          NaN      163,914     88,251  \n",
       "6        376,409       +4,771      113,715      9,597  "
      ]
     },
     "execution_count": 11,
     "metadata": {},
     "output_type": "execute_result"
    }
   ],
   "source": [
    "data.head(7)"
   ]
  },
  {
   "cell_type": "code",
   "execution_count": 12,
   "metadata": {},
   "outputs": [
    {
     "data": {
      "text/html": [
       "<div>\n",
       "<style scoped>\n",
       "    .dataframe tbody tr th:only-of-type {\n",
       "        vertical-align: middle;\n",
       "    }\n",
       "\n",
       "    .dataframe tbody tr th {\n",
       "        vertical-align: top;\n",
       "    }\n",
       "\n",
       "    .dataframe thead th {\n",
       "        text-align: right;\n",
       "    }\n",
       "</style>\n",
       "<table border=\"1\" class=\"dataframe\">\n",
       "  <thead>\n",
       "    <tr style=\"text-align: right;\">\n",
       "      <th></th>\n",
       "      <th>Unnamed: 0</th>\n",
       "      <th>country</th>\n",
       "      <th>totalcases</th>\n",
       "      <th>newcases</th>\n",
       "      <th>totaldeaths</th>\n",
       "      <th>newdeaths</th>\n",
       "      <th>totalrecovered</th>\n",
       "      <th>ActiveCases</th>\n",
       "      <th>SeriousCases</th>\n",
       "      <th>Population</th>\n",
       "    </tr>\n",
       "  </thead>\n",
       "  <tbody>\n",
       "    <tr>\n",
       "      <th>210</th>\n",
       "      <td>210</td>\n",
       "      <td>Western Sahara</td>\n",
       "      <td>10</td>\n",
       "      <td>NaN</td>\n",
       "      <td>1</td>\n",
       "      <td>NaN</td>\n",
       "      <td>8</td>\n",
       "      <td>NaN</td>\n",
       "      <td>1</td>\n",
       "      <td>NaN</td>\n",
       "    </tr>\n",
       "    <tr>\n",
       "      <th>211</th>\n",
       "      <td>211</td>\n",
       "      <td>MS Zaandam</td>\n",
       "      <td>9</td>\n",
       "      <td>NaN</td>\n",
       "      <td>2</td>\n",
       "      <td>NaN</td>\n",
       "      <td>NaN</td>\n",
       "      <td>NaN</td>\n",
       "      <td>7</td>\n",
       "      <td>NaN</td>\n",
       "    </tr>\n",
       "    <tr>\n",
       "      <th>212</th>\n",
       "      <td>212</td>\n",
       "      <td>Saint Pierre Miquelon</td>\n",
       "      <td>5</td>\n",
       "      <td>NaN</td>\n",
       "      <td></td>\n",
       "      <td>NaN</td>\n",
       "      <td>1</td>\n",
       "      <td>NaN</td>\n",
       "      <td>4</td>\n",
       "      <td>NaN</td>\n",
       "    </tr>\n",
       "    <tr>\n",
       "      <th>213</th>\n",
       "      <td>213</td>\n",
       "      <td>Anguilla</td>\n",
       "      <td>3</td>\n",
       "      <td>NaN</td>\n",
       "      <td></td>\n",
       "      <td>NaN</td>\n",
       "      <td>3</td>\n",
       "      <td>NaN</td>\n",
       "      <td>0</td>\n",
       "      <td>44,069</td>\n",
       "    </tr>\n",
       "    <tr>\n",
       "      <th>214</th>\n",
       "      <td>214</td>\n",
       "      <td>China</td>\n",
       "      <td>84,939</td>\n",
       "      <td>+22</td>\n",
       "      <td>4,634</td>\n",
       "      <td>NaN</td>\n",
       "      <td>79,851</td>\n",
       "      <td>+59</td>\n",
       "      <td>454</td>\n",
       "      <td>62,814</td>\n",
       "    </tr>\n",
       "  </tbody>\n",
       "</table>\n",
       "</div>"
      ],
      "text/plain": [
       "     Unnamed: 0                country totalcases newcases totaldeaths  \\\n",
       "210         210         Western Sahara         10      NaN          1    \n",
       "211         211             MS Zaandam          9      NaN          2    \n",
       "212         212  Saint Pierre Miquelon          5      NaN               \n",
       "213         213               Anguilla          3      NaN               \n",
       "214         214                  China     84,939      +22      4,634    \n",
       "\n",
       "     newdeaths  totalrecovered  ActiveCases SeriousCases Population  \n",
       "210         NaN              8          NaN            1        NaN  \n",
       "211         NaN            NaN          NaN            7        NaN  \n",
       "212         NaN              1          NaN            4        NaN  \n",
       "213         NaN              3          NaN            0     44,069  \n",
       "214         NaN         79,851          +59          454     62,814  "
      ]
     },
     "execution_count": 12,
     "metadata": {},
     "output_type": "execute_result"
    }
   ],
   "source": [
    "data.tail()"
   ]
  },
  {
   "cell_type": "code",
   "execution_count": 13,
   "metadata": {},
   "outputs": [
    {
     "data": {
      "text/plain": [
       "(215, 10)"
      ]
     },
     "execution_count": 13,
     "metadata": {},
     "output_type": "execute_result"
    }
   ],
   "source": [
    "data.shape"
   ]
  },
  {
   "cell_type": "code",
   "execution_count": 14,
   "metadata": {},
   "outputs": [],
   "source": [
    "data1 = data[:10]"
   ]
  },
  {
   "cell_type": "code",
   "execution_count": 15,
   "metadata": {},
   "outputs": [
    {
     "data": {
      "text/html": [
       "<div>\n",
       "<style scoped>\n",
       "    .dataframe tbody tr th:only-of-type {\n",
       "        vertical-align: middle;\n",
       "    }\n",
       "\n",
       "    .dataframe tbody tr th {\n",
       "        vertical-align: top;\n",
       "    }\n",
       "\n",
       "    .dataframe thead th {\n",
       "        text-align: right;\n",
       "    }\n",
       "</style>\n",
       "<table border=\"1\" class=\"dataframe\">\n",
       "  <thead>\n",
       "    <tr style=\"text-align: right;\">\n",
       "      <th></th>\n",
       "      <th>Unnamed: 0</th>\n",
       "      <th>country</th>\n",
       "      <th>totalcases</th>\n",
       "      <th>newcases</th>\n",
       "      <th>totaldeaths</th>\n",
       "      <th>newdeaths</th>\n",
       "      <th>totalrecovered</th>\n",
       "      <th>ActiveCases</th>\n",
       "      <th>SeriousCases</th>\n",
       "      <th>Population</th>\n",
       "    </tr>\n",
       "  </thead>\n",
       "  <tbody>\n",
       "    <tr>\n",
       "      <th>0</th>\n",
       "      <td>0</td>\n",
       "      <td>USA</td>\n",
       "      <td>5,799,148</td>\n",
       "      <td>+2,421</td>\n",
       "      <td>179,240</td>\n",
       "      <td>40.0</td>\n",
       "      <td>3,127,418</td>\n",
       "      <td>NaN</td>\n",
       "      <td>2,492,490</td>\n",
       "      <td>225,547</td>\n",
       "    </tr>\n",
       "    <tr>\n",
       "      <th>1</th>\n",
       "      <td>1</td>\n",
       "      <td>Brazil</td>\n",
       "      <td>3,536,488</td>\n",
       "      <td>NaN</td>\n",
       "      <td>113,454</td>\n",
       "      <td>NaN</td>\n",
       "      <td>2,670,755</td>\n",
       "      <td>NaN</td>\n",
       "      <td>752,279</td>\n",
       "      <td>66,476</td>\n",
       "    </tr>\n",
       "    <tr>\n",
       "      <th>2</th>\n",
       "      <td>2</td>\n",
       "      <td>India</td>\n",
       "      <td>2,985,367</td>\n",
       "      <td>+11,999</td>\n",
       "      <td>56,030</td>\n",
       "      <td>102.0</td>\n",
       "      <td>2,228,248</td>\n",
       "      <td>+7,449</td>\n",
       "      <td>701,089</td>\n",
       "      <td>24,959</td>\n",
       "    </tr>\n",
       "    <tr>\n",
       "      <th>3</th>\n",
       "      <td>3</td>\n",
       "      <td>Russia</td>\n",
       "      <td>951,897</td>\n",
       "      <td>+4,921</td>\n",
       "      <td>16,310</td>\n",
       "      <td>121.0</td>\n",
       "      <td>767,477</td>\n",
       "      <td>+6,147</td>\n",
       "      <td>168,110</td>\n",
       "      <td>231,693</td>\n",
       "    </tr>\n",
       "    <tr>\n",
       "      <th>4</th>\n",
       "      <td>4</td>\n",
       "      <td>South Africa</td>\n",
       "      <td>603,338</td>\n",
       "      <td>NaN</td>\n",
       "      <td>12,843</td>\n",
       "      <td>NaN</td>\n",
       "      <td>500,102</td>\n",
       "      <td>NaN</td>\n",
       "      <td>90,393</td>\n",
       "      <td>58,986</td>\n",
       "    </tr>\n",
       "    <tr>\n",
       "      <th>5</th>\n",
       "      <td>5</td>\n",
       "      <td>Peru</td>\n",
       "      <td>576,067</td>\n",
       "      <td>NaN</td>\n",
       "      <td>27,245</td>\n",
       "      <td>NaN</td>\n",
       "      <td>384,908</td>\n",
       "      <td>NaN</td>\n",
       "      <td>163,914</td>\n",
       "      <td>88,251</td>\n",
       "    </tr>\n",
       "    <tr>\n",
       "      <th>6</th>\n",
       "      <td>6</td>\n",
       "      <td>Mexico</td>\n",
       "      <td>549,734</td>\n",
       "      <td>+5,928</td>\n",
       "      <td>59,610</td>\n",
       "      <td>504.0</td>\n",
       "      <td>376,409</td>\n",
       "      <td>+4,771</td>\n",
       "      <td>113,715</td>\n",
       "      <td>9,597</td>\n",
       "    </tr>\n",
       "    <tr>\n",
       "      <th>7</th>\n",
       "      <td>7</td>\n",
       "      <td>Colombia</td>\n",
       "      <td>522,138</td>\n",
       "      <td>NaN</td>\n",
       "      <td>16,568</td>\n",
       "      <td>NaN</td>\n",
       "      <td>348,940</td>\n",
       "      <td>NaN</td>\n",
       "      <td>156,630</td>\n",
       "      <td>47,288</td>\n",
       "    </tr>\n",
       "    <tr>\n",
       "      <th>8</th>\n",
       "      <td>8</td>\n",
       "      <td>Spain</td>\n",
       "      <td>407,879</td>\n",
       "      <td>NaN</td>\n",
       "      <td>28,838</td>\n",
       "      <td>NaN</td>\n",
       "      <td>NaN</td>\n",
       "      <td>NaN</td>\n",
       "      <td>NaN</td>\n",
       "      <td>170,147</td>\n",
       "    </tr>\n",
       "    <tr>\n",
       "      <th>9</th>\n",
       "      <td>9</td>\n",
       "      <td>Chile</td>\n",
       "      <td>393,769</td>\n",
       "      <td>NaN</td>\n",
       "      <td>10,723</td>\n",
       "      <td>NaN</td>\n",
       "      <td>367,897</td>\n",
       "      <td>NaN</td>\n",
       "      <td>15,149</td>\n",
       "      <td>111,932</td>\n",
       "    </tr>\n",
       "  </tbody>\n",
       "</table>\n",
       "</div>"
      ],
      "text/plain": [
       "   Unnamed: 0       country totalcases newcases totaldeaths  newdeaths   \\\n",
       "0           0           USA  5,799,148   +2,421    179,240         40.0   \n",
       "1           1        Brazil  3,536,488      NaN    113,454          NaN   \n",
       "2           2         India  2,985,367  +11,999     56,030        102.0   \n",
       "3           3        Russia    951,897   +4,921     16,310        121.0   \n",
       "4           4  South Africa    603,338      NaN     12,843          NaN   \n",
       "5           5          Peru    576,067      NaN     27,245          NaN   \n",
       "6           6        Mexico    549,734   +5,928     59,610        504.0   \n",
       "7           7      Colombia    522,138      NaN     16,568          NaN   \n",
       "8           8         Spain    407,879      NaN     28,838          NaN   \n",
       "9           9         Chile    393,769      NaN     10,723          NaN   \n",
       "\n",
       "  totalrecovered  ActiveCases SeriousCases Population  \n",
       "0      3,127,418          NaN    2,492,490    225,547  \n",
       "1      2,670,755          NaN      752,279     66,476  \n",
       "2      2,228,248       +7,449      701,089     24,959  \n",
       "3        767,477       +6,147      168,110    231,693  \n",
       "4        500,102          NaN       90,393     58,986  \n",
       "5        384,908          NaN      163,914     88,251  \n",
       "6        376,409       +4,771      113,715      9,597  \n",
       "7        348,940          NaN      156,630     47,288  \n",
       "8            NaN          NaN          NaN    170,147  \n",
       "9        367,897          NaN       15,149    111,932  "
      ]
     },
     "execution_count": 15,
     "metadata": {},
     "output_type": "execute_result"
    }
   ],
   "source": [
    "data1"
   ]
  },
  {
   "cell_type": "code",
   "execution_count": 16,
   "metadata": {},
   "outputs": [],
   "source": [
    "country = data1[\"country\"]"
   ]
  },
  {
   "cell_type": "code",
   "execution_count": 17,
   "metadata": {},
   "outputs": [],
   "source": [
    "totalcases = data1[\"totalcases\"]"
   ]
  },
  {
   "cell_type": "code",
   "execution_count": 18,
   "metadata": {},
   "outputs": [],
   "source": [
    "totaldeaths = data1[\"totaldeaths\"]"
   ]
  },
  {
   "cell_type": "code",
   "execution_count": 19,
   "metadata": {},
   "outputs": [
    {
     "data": {
      "text/plain": [
       "Unnamed: 0              9\n",
       "country             Chile\n",
       "totalcases        393,769\n",
       "newcases              NaN\n",
       "totaldeaths       10,723 \n",
       "newdeaths             NaN\n",
       "totalrecovered    367,897\n",
       " ActiveCases          NaN\n",
       "SeriousCases       15,149\n",
       "Population        111,932\n",
       "Name: 9, dtype: object"
      ]
     },
     "execution_count": 19,
     "metadata": {},
     "output_type": "execute_result"
    }
   ],
   "source": [
    "data1.iloc[9]"
   ]
  },
  {
   "cell_type": "code",
   "execution_count": 20,
   "metadata": {},
   "outputs": [
    {
     "data": {
      "text/plain": [
       "0    3,127,418\n",
       "1    2,670,755\n",
       "2    2,228,248\n",
       "3      767,477\n",
       "4      500,102\n",
       "5      384,908\n",
       "6      376,409\n",
       "7      348,940\n",
       "9      367,897\n",
       "Name: totalrecovered, dtype: object"
      ]
     },
     "execution_count": 20,
     "metadata": {},
     "output_type": "execute_result"
    }
   ],
   "source": [
    "data1['totalrecovered'].dropna()\n"
   ]
  },
  {
   "cell_type": "code",
   "execution_count": 21,
   "metadata": {},
   "outputs": [],
   "source": [
    "totalrecovered=data1['totalrecovered']"
   ]
  },
  {
   "cell_type": "code",
   "execution_count": 22,
   "metadata": {},
   "outputs": [],
   "source": [
    "w=list(totalrecovered)"
   ]
  },
  {
   "cell_type": "code",
   "execution_count": 23,
   "metadata": {},
   "outputs": [],
   "source": [
    "z=list(totaldeaths)"
   ]
  },
  {
   "cell_type": "code",
   "execution_count": 24,
   "metadata": {},
   "outputs": [],
   "source": [
    "x = list(country)"
   ]
  },
  {
   "cell_type": "code",
   "execution_count": 25,
   "metadata": {},
   "outputs": [],
   "source": [
    "y = list(totalcases)"
   ]
  },
  {
   "cell_type": "code",
   "execution_count": 26,
   "metadata": {},
   "outputs": [
    {
     "data": {
      "text/plain": [
       "['USA',\n",
       " 'Brazil',\n",
       " 'India',\n",
       " 'Russia',\n",
       " 'South Africa',\n",
       " 'Peru',\n",
       " 'Mexico',\n",
       " 'Colombia',\n",
       " 'Spain',\n",
       " 'Chile']"
      ]
     },
     "execution_count": 26,
     "metadata": {},
     "output_type": "execute_result"
    }
   ],
   "source": [
    "x"
   ]
  },
  {
   "cell_type": "code",
   "execution_count": 27,
   "metadata": {},
   "outputs": [
    {
     "data": {
      "text/plain": [
       "['5,799,148',\n",
       " '3,536,488',\n",
       " '2,985,367',\n",
       " '951,897',\n",
       " '603,338',\n",
       " '576,067',\n",
       " '549,734',\n",
       " '522,138',\n",
       " '407,879',\n",
       " '393,769']"
      ]
     },
     "execution_count": 27,
     "metadata": {},
     "output_type": "execute_result"
    }
   ],
   "source": [
    "y"
   ]
  },
  {
   "cell_type": "code",
   "execution_count": 28,
   "metadata": {},
   "outputs": [
    {
     "data": {
      "text/plain": [
       "['179,240 ',\n",
       " '113,454 ',\n",
       " '56,030 ',\n",
       " '16,310 ',\n",
       " '12,843 ',\n",
       " '27,245 ',\n",
       " '59,610 ',\n",
       " '16,568 ',\n",
       " '28,838 ',\n",
       " '10,723 ']"
      ]
     },
     "execution_count": 28,
     "metadata": {},
     "output_type": "execute_result"
    }
   ],
   "source": [
    "z"
   ]
  },
  {
   "cell_type": "code",
   "execution_count": 29,
   "metadata": {},
   "outputs": [
    {
     "data": {
      "text/plain": [
       "['3,127,418',\n",
       " '2,670,755',\n",
       " '2,228,248',\n",
       " '767,477',\n",
       " '500,102',\n",
       " '384,908',\n",
       " '376,409',\n",
       " '348,940',\n",
       " nan,\n",
       " '367,897']"
      ]
     },
     "execution_count": 29,
     "metadata": {},
     "output_type": "execute_result"
    }
   ],
   "source": [
    "w"
   ]
  },
  {
   "cell_type": "markdown",
   "metadata": {},
   "source": [
    "# graph of Newcases with respect to country's"
   ]
  },
  {
   "cell_type": "code",
   "execution_count": 30,
   "metadata": {},
   "outputs": [
    {
     "data": {
      "image/png": "[encoded data removed]",
      "text/plain": [
       "<Figure size 864x432 with 1 Axes>"
      ]
     },
     "metadata": {
      "needs_background": "light"
     },
     "output_type": "display_data"
    }
   ],
   "source": [
    "plt.figure(figsize=(12,6))\n",
    "sns.countplot(x = 'country',hue='newcases',data=data1)\n",
    "plt.title('newcaes wrt country')\n",
    "plt.ylabel('newcases')\n",
    "plt.legend(loc='lower center',prop={'size': 18})\n",
    "plt.xticks(rotation=30)\n",
    "plt.show()"
   ]
  },
  {
   "cell_type": "markdown",
   "metadata": {},
   "source": [
    "# graph of totalcases with respect to country's"
   ]
  },
  {
   "cell_type": "code",
   "execution_count": 31,
   "metadata": {},
   "outputs": [
    {
     "data": {
      "image/png": "[encoded data removed]",
      "text/plain": [
       "<Figure size 720x360 with 1 Axes>"
      ]
     },
     "metadata": {},
     "output_type": "display_data"
    }
   ],
   "source": [
    "sns.set_style('whitegrid')\n",
    "plt.figure(figsize=(10,5))\n",
    "plt.bar(x[::-1] ,y[::-1])\n",
    "plt.xticks(rotation=45)\n",
    "plt.title('totalcases wrt countries')\n",
    "plt.xlabel('countries')\n",
    "plt.ylabel('totalcases')\n",
    "plt.show()\n"
   ]
  },
  {
   "cell_type": "markdown",
   "metadata": {},
   "source": [
    "# graph of totaldeath with respect to country's"
   ]
  },
  {
   "cell_type": "code",
   "execution_count": 32,
   "metadata": {
    "scrolled": true
   },
   "outputs": [
    {
     "data": {
      "image/png": "[encoded data removed]",
      "text/plain": [
       "<Figure size 720x360 with 1 Axes>"
      ]
     },
     "metadata": {},
     "output_type": "display_data"
    }
   ],
   "source": [
    "sns.set_style('whitegrid')\n",
    "plt.figure(figsize=(10,5))\n",
    "plt.bar(x[::-1],z[::-1],color='b')\n",
    "plt.xticks(rotation=45)\n",
    "plt.title('totaldeath wrt country')\n",
    "plt.xlabel('countries')\n",
    "plt.ylabel('totaldeaths')\n",
    "plt.show()"
   ]
  },
  {
   "cell_type": "code",
   "execution_count": 33,
   "metadata": {},
   "outputs": [
    {
     "data": {
      "image/png": "[encoded data removed]",
      "text/plain": [
       "<Figure size 1008x504 with 1 Axes>"
      ]
     },
     "metadata": {},
     "output_type": "display_data"
    }
   ],
   "source": [
    "plt.figure(figsize=(14,7))\n",
    "sns.countplot(x = 'country',hue='totalrecovered',data=data1)\n",
    "plt.title('recovered wrt country')\n",
    "plt.ylabel('recovered')\n",
    "plt.legend(loc='center',prop={'size': 18})\n",
    "plt.xticks(rotation=30)\n",
    "plt.show()"
   ]
  },
  {
   "cell_type": "code",
   "execution_count": null,
   "metadata": {},
   "outputs": [],
   "source": []
  }
 ],
 "metadata": {
  "kernelspec": {
   "display_name": "Python 3",
   "language": "python",
   "name": "python3"
  },
  "language_info": {
   "codemirror_mode": {
    "name": "ipython",
    "version": 3
   },
   "file_extension": ".py",
   "mimetype": "text/x-python",
   "name": "python",
   "nbconvert_exporter": "python",
   "pygments_lexer": "ipython3",
   "version": "3.7.6"
  }
 },
 "nbformat": 4,
 "nbformat_minor": 4
}
